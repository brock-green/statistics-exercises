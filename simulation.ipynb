{
 "cells": [
  {
   "cell_type": "code",
   "execution_count": 3,
   "metadata": {},
   "outputs": [],
   "source": [
    "import numpy as np\n",
    "import numpy.ma as ma\n",
    "import pandas as pd"
   ]
  },
  {
   "cell_type": "markdown",
   "metadata": {},
   "source": [
    "#### 1. How likely is it that you roll doubles when rolling two dice?\n",
    "\n",
    "ANSWER: 0.1658"
   ]
  },
  {
   "cell_type": "code",
   "execution_count": 4,
   "metadata": {},
   "outputs": [],
   "source": [
    "# number of simulations\n",
    "n_simulations = nrows = 100_000\n",
    "# number of dice/columns in array\n",
    "n_dice = ncols = 2\n",
    "# define array with 10,000 instances of a randome choice of two die rolls\n",
    "rolls = np.random.choice([1, 2, 3, 4, 5, 6], n_simulations * n_dice).reshape(nrows, ncols)"
   ]
  },
  {
   "cell_type": "code",
   "execution_count": 5,
   "metadata": {},
   "outputs": [
    {
     "data": {
      "text/plain": [
       "0.1658"
      ]
     },
     "execution_count": 5,
     "metadata": {},
     "output_type": "execute_result"
    }
   ],
   "source": [
    "# method 1: Use pd DataFrame to compare columns\n",
    "rolls_df = pd.DataFrame(rolls)\n",
    "(rolls_df[0] == rolls_df [1]).sum() / len(rolls_df)"
   ]
  },
  {
   "cell_type": "code",
   "execution_count": 6,
   "metadata": {},
   "outputs": [
    {
     "data": {
      "text/plain": [
       "0.1658"
      ]
     },
     "execution_count": 6,
     "metadata": {},
     "output_type": "execute_result"
    }
   ],
   "source": [
    "# method 2 use slices to compare columns\n",
    "rolls[:,0]\n",
    "rolls[:,1]\n",
    "(rolls[:,0] == rolls[:,1]).mean()"
   ]
  },
  {
   "cell_type": "markdown",
   "metadata": {},
   "source": [
    "#### 2. If you flip 8 coins, what is the probability of getting exactly 3 heads? \n",
    "ANSWER: 0.21805\n",
    "#### What is the probability of getting more than 3 heads?\n",
    "ANSWER: 0.63741"
   ]
  },
  {
   "cell_type": "code",
   "execution_count": 7,
   "metadata": {},
   "outputs": [],
   "source": [
    "# define outcomes\n",
    "outcomes = ['H','T']\n",
    "# number of trial/columns\n",
    "n_trials = 8\n",
    "# number of simulations\n",
    "n_simulations = 100_000"
   ]
  },
  {
   "cell_type": "code",
   "execution_count": 8,
   "metadata": {},
   "outputs": [],
   "source": [
    "# Create a matrix of random numbers\n",
    "eight_flips = np.random.choice(outcomes, (n_simulations, n_trials))"
   ]
  },
  {
   "cell_type": "code",
   "execution_count": 9,
   "metadata": {},
   "outputs": [
    {
     "data": {
      "text/plain": [
       "array([2, 4, 5, ..., 3, 4, 3])"
      ]
     },
     "execution_count": 9,
     "metadata": {},
     "output_type": "execute_result"
    }
   ],
   "source": [
    "# Apply the sum aggregate to the rows to find the results of each simulation\n",
    "(eight_flips == 'H').sum(axis=1)"
   ]
  },
  {
   "cell_type": "code",
   "execution_count": 10,
   "metadata": {},
   "outputs": [
    {
     "data": {
      "text/plain": [
       "array([False, False, False, ...,  True, False,  True])"
      ]
     },
     "execution_count": 10,
     "metadata": {},
     "output_type": "execute_result"
    }
   ],
   "source": [
    "# Use these results to create a bool mask to apply to our array\n",
    "((eight_flips == 'H').sum(axis=1) == 3)"
   ]
  },
  {
   "cell_type": "code",
   "execution_count": 11,
   "metadata": {},
   "outputs": [
    {
     "data": {
      "text/plain": [
       "0.21805"
      ]
     },
     "execution_count": 11,
     "metadata": {},
     "output_type": "execute_result"
    }
   ],
   "source": [
    "# to find our experimental probability count the number of successes and divide by the number of simulations\n",
    "((eight_flips == 'H').sum(axis=1) == 3).sum() / n_simulations"
   ]
  },
  {
   "cell_type": "code",
   "execution_count": 12,
   "metadata": {},
   "outputs": [
    {
     "data": {
      "text/plain": [
       "0.63741"
      ]
     },
     "execution_count": 12,
     "metadata": {},
     "output_type": "execute_result"
    }
   ],
   "source": [
    "# Find the probability of getting more than three heads\n",
    "((eight_flips == 'H').sum(axis=1) > 3).sum() / n_simulations"
   ]
  },
  {
   "cell_type": "markdown",
   "metadata": {},
   "source": [
    "#### 3. There are approximitely 3 web development cohorts for every 1 data science cohort at Codeup. Assuming that Codeup randomly selects an alumni to put on a billboard, what are the odds that the two billboards I drive past both have data science students on them?\n",
    "\n",
    "ANSWER: 0.06166"
   ]
  },
  {
   "cell_type": "code",
   "execution_count": 13,
   "metadata": {},
   "outputs": [],
   "source": [
    "# DEFINE OUTCOMES\n",
    "outcomes = ['WD', 'WD', 'WD', 'DS']\n",
    "# number of billboards/trials/columns\n",
    "n_trials = 2\n",
    "# number of simulations\n",
    "n_simulations = 100_000"
   ]
  },
  {
   "cell_type": "code",
   "execution_count": 14,
   "metadata": {},
   "outputs": [],
   "source": [
    "# Create a matrix of random numbers\n",
    "billboards = np.random.choice(outcomes, (n_simulations, n_trials))\n",
    "# Create a dataframe from the array so we can use pandas\n",
    "billboards_df = pd.DataFrame(billboards)"
   ]
  },
  {
   "cell_type": "code",
   "execution_count": 15,
   "metadata": {},
   "outputs": [
    {
     "data": {
      "text/plain": [
       "0.06166"
      ]
     },
     "execution_count": 15,
     "metadata": {},
     "output_type": "execute_result"
    }
   ],
   "source": [
    "# Create a bool mask of successful outcomes\n",
    "ds_mask = (billboards_df[0] == 'DS') & (billboards_df[1] == 'DS')\n",
    "# divide the length of the successful outcomes by the number of simulations\n",
    "len(billboards[ds_mask]) / len(billboards)"
   ]
  },
  {
   "cell_type": "markdown",
   "metadata": {},
   "source": [
    "#### 4. Codeup students buy, on average, 3 poptart packages with a standard deviation of 1.5 a day from the snack vending machine. If on monday the machine is restocked with 17 poptart packages, how likely is it that I will be able to buy some poptarts on Friday afternoon? (Remember, if you have mean and standard deviation, use the np.random.normal) You'll need to make a judgement call on how to handle some of your values\n",
    "\n",
    "ANSWER: 0.61616"
   ]
  },
  {
   "cell_type": "code",
   "execution_count": 16,
   "metadata": {},
   "outputs": [
    {
     "data": {
      "text/plain": [
       "array([[1.51495258, 3.90474107, 3.06207462, 4.05344693, 4.22386959],\n",
       "       [0.99459346, 2.04627035, 3.15213162, 2.73235026, 2.56572471],\n",
       "       [6.11751126, 4.51660877, 1.588424  , 1.07958876, 2.53143228],\n",
       "       ...,\n",
       "       [5.23781324, 2.04610673, 4.32124306, 1.00775978, 6.6649465 ],\n",
       "       [3.45536713, 1.69105728, 4.02580464, 3.792423  , 1.78772204],\n",
       "       [2.94865281, 5.24111802, 1.53098588, 0.87887611, 2.73097909]])"
      ]
     },
     "execution_count": 16,
     "metadata": {},
     "output_type": "execute_result"
    }
   ],
   "source": [
    "avg = 3\n",
    "std = 1.5\n",
    "# There are 5 full days before EOD Friday, so our trial number is 5. Lets run 10,000 simulations.\n",
    "n_simulations = 100_000\n",
    "n_trials = 5\n",
    "# Create array for normal distributions and random values with a mean of 3 and stdv of 1.5\n",
    "poptarts = np.random.normal(avg, std, (n_simulations, n_trials))\n",
    "poptarts"
   ]
  },
  {
   "cell_type": "code",
   "execution_count": 17,
   "metadata": {},
   "outputs": [
    {
     "data": {
      "text/plain": [
       "0.61616"
      ]
     },
     "execution_count": 17,
     "metadata": {},
     "output_type": "execute_result"
    }
   ],
   "source": [
    "# A successful simulation is one in which 16 or fewer poptarts have been purchased before me.\n",
    "# Find the sum of successful simulations and divide by the total number of simulations.\n",
    "(poptarts.sum(axis=1) <= 16).sum() / n_simulations"
   ]
  },
  {
   "cell_type": "markdown",
   "metadata": {},
   "source": [
    "#### 5. Compare Heights:\n",
    "    - Men have an average height of 178 cm and standard deviation of 8cm.\n",
    "    - Women have a mean of 170, sd = 6cm.\n",
    "##### If a man and woman are chosen at random, what is the likelihood the woman is taller than the man?\n",
    "ANSWER: 0.211791"
   ]
  },
  {
   "cell_type": "code",
   "execution_count": 18,
   "metadata": {},
   "outputs": [
    {
     "data": {
      "text/plain": [
       "0.212167"
      ]
     },
     "execution_count": 18,
     "metadata": {},
     "output_type": "execute_result"
    }
   ],
   "source": [
    "# Establish variables for male and female average height and stdv\n",
    "male_avg = 178\n",
    "male_std = 8\n",
    "female_avg = 170\n",
    "female_std = 6\n",
    "n_trials = 1_000_000\n",
    "# Create arrays of 10,000 simulations for males and females\n",
    "male_array = np.random.normal(male_avg, male_std, n_trials)\n",
    "female_array = np.random.normal(female_avg, female_std, n_trials)\n",
    "# Subtract male_array values from female_array values \n",
    "height_diff = female_array - male_array\n",
    "# Create bool mask for differences greater than zero.\n",
    "height_diff > 0\n",
    "# Sum successful trials and divide by total number of trials\n",
    "(height_diff > 0).sum() / n_trials"
   ]
  },
  {
   "cell_type": "markdown",
   "metadata": {},
   "source": [
    "#### 6. When installing anaconda on a student's computer, there's a 1 in 250 chance that the download is corrupted and the installation fails. \n",
    "What are the odds that after having 50 students download anaconda, no one has an installation issue? 100 students?\n",
    "\n",
    "What is the probability that we observe an installation issue within the first 150 students that download anaconda?\n",
    "\n",
    "How likely is it that 450 students all download anaconda without an issue?"
   ]
  },
  {
   "cell_type": "code",
   "execution_count": 29,
   "metadata": {},
   "outputs": [],
   "source": [
    "# Probability of corruption:\n",
    "p_corrupt = 1/250\n",
    "# 10,000 simulations:\n",
    "n_simulations = n_rows = 100_000"
   ]
  },
  {
   "cell_type": "code",
   "execution_count": 40,
   "metadata": {},
   "outputs": [
    {
     "data": {
      "text/plain": [
       "0.8198"
      ]
     },
     "execution_count": 40,
     "metadata": {},
     "output_type": "execute_result"
    }
   ],
   "source": [
    "# Odds of no corruption after 50 downloads:\n",
    "n_trials = ncols = 50\n",
    "# Create matrix\n",
    "corrupt = np.random.random((nrows, ncols))\n",
    "# Bool mask for values less than our probability\n",
    "corrupted = corrupt < p_corrupt\n",
    "# Find the sum of successful simulations and average\n",
    "(corrupted.sum(axis=1) == 0).mean()"
   ]
  },
  {
   "cell_type": "code",
   "execution_count": 41,
   "metadata": {},
   "outputs": [
    {
     "data": {
      "text/plain": [
       "0.6584"
      ]
     },
     "execution_count": 41,
     "metadata": {},
     "output_type": "execute_result"
    }
   ],
   "source": [
    "# Odds of no corruption after 100 students:\n",
    "n_trials = ncols = 100\n",
    "# Create matrix\n",
    "corrupt = np.random.random((nrows, ncols))\n",
    "# Bool mask for values less than our probability\n",
    "corrupted = corrupt < p_corrupt\n",
    "# Find the sum of successful simulations and average\n",
    "(corrupted.sum(axis=1) == 0).mean()"
   ]
  },
  {
   "cell_type": "code",
   "execution_count": 47,
   "metadata": {},
   "outputs": [
    {
     "data": {
      "text/plain": [
       "0.45415"
      ]
     },
     "execution_count": 47,
     "metadata": {},
     "output_type": "execute_result"
    }
   ],
   "source": [
    "# Probability of corruption within the first 150 downloads:\n",
    "n_trials = ncols = 150\n",
    "# Create matrix\n",
    "corrupt = np.random.random((nrows, ncols))\n",
    "# Bool mask for values less than our probability\n",
    "((corrupt < p_corrupt).sum(axis=1) > 0).mean()"
   ]
  },
  {
   "cell_type": "code",
   "execution_count": 49,
   "metadata": {},
   "outputs": [
    {
     "data": {
      "text/plain": [
       "0.16426"
      ]
     },
     "execution_count": 49,
     "metadata": {},
     "output_type": "execute_result"
    }
   ],
   "source": [
    "# How likely is it that after 450 downloads there were no issues:\n",
    "n_trials = ncols = 450\n",
    "# Create matrix\n",
    "corrupt = np.random.random((nrows, ncols))\n",
    "# Bool mask for values less than our probability\n",
    "((corrupt < p_corrupt).sum(axis=1) == 0).mean()"
   ]
  },
  {
   "cell_type": "markdown",
   "metadata": {},
   "source": [
    "#### 7. There's a 70% chance on any given day that there will be at least one food truck at Travis Park. However, you haven't seen a food truck there in 3 days. How unlikely is this?\n",
    "\n",
    "How likely is it that a food truck will show up sometime this week?"
   ]
  },
  {
   "cell_type": "code",
   "execution_count": 71,
   "metadata": {},
   "outputs": [
    {
     "data": {
      "text/plain": [
       "0.02611"
      ]
     },
     "execution_count": 71,
     "metadata": {},
     "output_type": "execute_result"
    }
   ],
   "source": [
    "outcomes = ['truck', 'no_truck']\n",
    "p_truck = .7\n",
    "n_simulations = 100_000\n",
    "n_trials = 3\n",
    "# trials are 3 days\n",
    "truck_sim = np.random.choice(outcomes, size=(n_simulations, n_trials), p=(p_truck, 0.3))\n",
    "((truck_sim == 'truck').sum(axis=1) == 0).mean()"
   ]
  },
  {
   "cell_type": "code",
   "execution_count": 72,
   "metadata": {},
   "outputs": [
    {
     "data": {
      "text/plain": [
       "0.99983"
      ]
     },
     "execution_count": 72,
     "metadata": {},
     "output_type": "execute_result"
    }
   ],
   "source": [
    "# How likely is it that a food truck will show up sometime this week?\n",
    "# Change number of trials to 7 \n",
    "n_trials = 7\n",
    "# Create matrix\n",
    "truck_sim = np.random.choice(outcomes, size=(n_simulations, n_trials), p=(p_truck, 0.3))\n",
    "((truck_sim == 'truck').sum(axis=1) > 0).mean()"
   ]
  },
  {
   "cell_type": "markdown",
   "metadata": {},
   "source": [
    "#### 8. If 23 people are in the same room, what are the odds that two of them share a birthday? What if it's 20 people? 40?\n",
    "\n"
   ]
  },
  {
   "cell_type": "code",
   "execution_count": 80,
   "metadata": {},
   "outputs": [
    {
     "data": {
      "text/plain": [
       "array([[ 31,  66, 169, ...,  19,  81, 363],\n",
       "       [180,  91, 172, ...,  97, 109, 117],\n",
       "       [ 41, 215, 345, ..., 315,  59, 141],\n",
       "       ...,\n",
       "       [318, 242, 228, ..., 155, 233, 313],\n",
       "       [207, 303,  60, ..., 197, 166, 160],\n",
       "       [199, 162, 167, ...,  42, 295,   1]])"
      ]
     },
     "execution_count": 80,
     "metadata": {},
     "output_type": "execute_result"
    }
   ],
   "source": [
    "n_trials = ncols = 23\n",
    "n_simulations = nrows = 100_000\n",
    "\n",
    "# Create matrix\n",
    "birthday = np.random.choice(range(365),size=(n_simulations, n_trials))\n",
    "birthday"
   ]
  },
  {
   "cell_type": "code",
   "execution_count": 83,
   "metadata": {},
   "outputs": [
    {
     "data": {
      "text/plain": [
       "0.50705"
      ]
     },
     "execution_count": 83,
     "metadata": {},
     "output_type": "execute_result"
    }
   ],
   "source": [
    "birthday_df = pd.DataFrame(birthday)\n",
    "(birthday_df.nunique(axis=1) < n_trials).mean()"
   ]
  },
  {
   "cell_type": "code",
   "execution_count": 84,
   "metadata": {},
   "outputs": [
    {
     "data": {
      "text/plain": [
       "0.41076"
      ]
     },
     "execution_count": 84,
     "metadata": {},
     "output_type": "execute_result"
    }
   ],
   "source": [
    "# For 20 people:\n",
    "n_trials = ncols = 20\n",
    "\n",
    "# Create matrix\n",
    "birthday = np.random.choice(range(365),size=(n_simulations, n_trials))\n",
    "birthday_df = pd.DataFrame(birthday)\n",
    "(birthday_df.nunique(axis=1) < n_trials).mean()"
   ]
  },
  {
   "cell_type": "code",
   "execution_count": 85,
   "metadata": {},
   "outputs": [
    {
     "data": {
      "text/plain": [
       "0.89052"
      ]
     },
     "execution_count": 85,
     "metadata": {},
     "output_type": "execute_result"
    }
   ],
   "source": [
    "# For 40 people:\n",
    "n_trials = ncols = 40\n",
    "\n",
    "# Create matrix\n",
    "birthday = np.random.choice(range(365),size=(n_simulations, n_trials))\n",
    "birthday_df = pd.DataFrame(birthday)\n",
    "(birthday_df.nunique(axis=1) < n_trials).mean()"
   ]
  }
 ],
 "metadata": {
  "kernelspec": {
   "display_name": "base",
   "language": "python",
   "name": "python3"
  },
  "language_info": {
   "codemirror_mode": {
    "name": "ipython",
    "version": 3
   },
   "file_extension": ".py",
   "mimetype": "text/x-python",
   "name": "python",
   "nbconvert_exporter": "python",
   "pygments_lexer": "ipython3",
   "version": "3.11.3"
  },
  "orig_nbformat": 4
 },
 "nbformat": 4,
 "nbformat_minor": 2
}
